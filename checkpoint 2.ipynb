{
 "cells": [
  {
   "cell_type": "code",
   "execution_count": 5,
   "id": "296d7b12",
   "metadata": {},
   "outputs": [
    {
     "name": "stdout",
     "output_type": "stream",
     "text": [
      "36\n"
     ]
    }
   ],
   "source": [
    "import numpy\n",
    "list1 = [2, 3, 6]\n",
    "result1 = numpy.prod(list1)\n",
    "print(result1)\n"
   ]
  },
  {
   "cell_type": "code",
   "execution_count": 6,
   "id": "3ccd91e7",
   "metadata": {},
   "outputs": [
    {
     "name": "stdout",
     "output_type": "stream",
     "text": [
      "[(1, 2), (2, 3), (4, 4), (2, 5), (2, 5)]\n"
     ]
    }
   ],
   "source": [
    "def last(n): return n[-1]\n",
    "\n",
    "def sort_list_last(tuples):\n",
    "  return sorted(tuples, key=last)\n",
    "\n",
    "print(sort_list_last([(2, 5), (1, 2), (2, 3), (4, 4), (2, 5)]))\n"
   ]
  },
  {
   "cell_type": "code",
   "execution_count": 7,
   "id": "6d76982d",
   "metadata": {},
   "outputs": [
    {
     "name": "stdout",
     "output_type": "stream",
     "text": [
      "{'a': 400, 'b': 400}\n"
     ]
    }
   ],
   "source": [
    "d1= {'a': 100, 'b': 200, 'c':300}\n",
    "d2= {'a': 300, 'b': 200, 'd':400}\n",
    "d3 = {}\n",
    "\n",
    "for i, j in d1.items():\n",
    "\n",
    "    for x, y in d2.items():\n",
    "\n",
    "        if i == x:\n",
    "\n",
    "            d3[i]=(j+y)\n",
    "\n",
    "print(d3)\n"
   ]
  },
  {
   "cell_type": "code",
   "execution_count": 9,
   "id": "3a219788",
   "metadata": {},
   "outputs": [
    {
     "name": "stdout",
     "output_type": "stream",
     "text": [
      "[('item3', '24.5'), ('item2', '15.10'), ('item1', '12.20')]\n"
     ]
    }
   ],
   "source": [
    "t1= [('item1', '12.20'), ('item2', '15.10'), ('item3', '24.5')] \n",
    "print( sorted(t1, key=lambda x: float(x[1]), reverse=True))                         \n",
    "#question 5"
   ]
  },
  {
   "cell_type": "code",
   "execution_count": null,
   "id": "e8dbfef9",
   "metadata": {},
   "outputs": [],
   "source": []
  }
 ],
 "metadata": {
  "kernelspec": {
   "display_name": "Python 3 (ipykernel)",
   "language": "python",
   "name": "python3"
  },
  "language_info": {
   "codemirror_mode": {
    "name": "ipython",
    "version": 3
   },
   "file_extension": ".py",
   "mimetype": "text/x-python",
   "name": "python",
   "nbconvert_exporter": "python",
   "pygments_lexer": "ipython3",
   "version": "3.9.7"
  }
 },
 "nbformat": 4,
 "nbformat_minor": 5
}
